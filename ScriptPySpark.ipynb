{
 "cells": [
  {
   "cell_type": "code",
   "execution_count": 1,
   "metadata": {},
   "outputs": [],
   "source": [
    "# Leitura Classe\n",
    "from pyspark.sql import SparkSession"
   ]
  },
  {
   "cell_type": "code",
   "execution_count": 2,
   "metadata": {},
   "outputs": [],
   "source": [
    "# Carrega Funcoes\n",
    "from pyspark.sql.functions import to_date,current_date,udf,year"
   ]
  },
  {
   "cell_type": "code",
   "execution_count": 3,
   "metadata": {},
   "outputs": [],
   "source": [
    "# Carrega Sessão\n",
    "spark = SparkSession.builder.appName(\"Teste-TripDataset\").getOrCreate()"
   ]
  },
  {
   "cell_type": "code",
   "execution_count": 4,
   "metadata": {},
   "outputs": [],
   "source": [
    "# Importa arquivo functions.py, com as funçoes para geração das variaveis \"long_trip\" e \"age_range\"\n",
    "spark.sparkContext.addPyFile('teste_engenheiro_de_dados-master/cycle-share-dataset/Functions.py')\n",
    "from Functions import *"
   ]
  },
  {
   "cell_type": "code",
   "execution_count": 5,
   "metadata": {},
   "outputs": [],
   "source": [
    "# leitura dos datasets\n",
    "path = 'teste_engenheiro_de_dados-master/cycle-share-dataset/'\n",
    "\n",
    "trip_file = path+'trip.csv'\n",
    "trip_data = spark.read.csv(trip_file, header=True, sep=\",\").cache()\n",
    "\n",
    "station_file = path+'station.csv'\n",
    "station_data = spark.read.csv(station_file, header=True, sep=\",\").cache()\n",
    "\n",
    "weather_file = path+'weather.csv'\n",
    "weather_data = spark.read.csv(weather_file, header=True, sep=\",\").cache()"
   ]
  },
  {
   "cell_type": "code",
   "execution_count": 6,
   "metadata": {},
   "outputs": [],
   "source": [
    "# Converte variavel \"date\" para formato date\n",
    "weather_data = weather_data\\\n",
    ".withColumn(\"date\",to_date(\"date\", \"MM/dd/yyyy\"))"
   ]
  },
  {
   "cell_type": "code",
   "execution_count": 7,
   "metadata": {},
   "outputs": [],
   "source": [
    "#### - Uma coluna com o nome \"long_trip\" de valor booleano sendo 'true' para viagens superiores a 10 minutos.\n",
    "\n",
    "# - Troca valores nulos por 0\n",
    "# - Converte a coluna \"tripduration\" para float\n",
    "# - chama funcao \"udf_longtrip\" para criar a coluna \"long_trip\" \n",
    "\n",
    "trip_data = trip_data.na.fill({'tripduration':0})\\\n",
    ".withColumn(\"tripduration\",udf_tofloat('tripduration'))\\\n",
    ".withColumn(\"long_trip\",udf_longtrip('tripduration'))"
   ]
  },
  {
   "cell_type": "code",
   "execution_count": 8,
   "metadata": {},
   "outputs": [],
   "source": [
    "# Criando table temp\n",
    "\n",
    "# Obs: \"createOrReplaceTempView\" -> a view temporaria utilizada nesse script tem um escopo de sessão.\n",
    "# Para compartilhar a view ente varias sessoes, precisamos utilizar \"createGlobalTempView\" \n",
    "\n",
    "station_data.createOrReplaceTempView(\"station\")\n",
    "weather_data.createOrReplaceTempView(\"weather\")\n",
    "trip_data.createOrReplaceTempView(\"trip\")"
   ]
  },
  {
   "cell_type": "code",
   "execution_count": 9,
   "metadata": {},
   "outputs": [],
   "source": [
    "##### - Lat/long -> Latitude/Longitude da estação de início e de fim.\n",
    "##### - Condição meteorológica no dia da viagem (coluna events da tabela weather).\n",
    "# Utilizando \"left join\" para possiveis registros que nao estao em \"weather\" e/ou \"station\"\n",
    "\n",
    "query = 'select a.*, \\\n",
    "                b.lat as from_station_lat,b.long as from_station_long, \\\n",
    "                c.lat as to_station_lat,c.long as to_station_long, \\\n",
    "                d.events, to_date(birthyear) as age \\\n",
    "                from trip a \\\n",
    "                left join station b on a.from_station_id = b.station_id \\\n",
    "                left join station c on a.to_station_id = c.station_id \\\n",
    "                left join weather d on d.date = to_date(starttime, \"MM/dd/yyyy\")'"
   ]
  },
  {
   "cell_type": "code",
   "execution_count": 10,
   "metadata": {},
   "outputs": [],
   "source": [
    "# Executa a query e gera dataframe \"trip_dataset\"\n",
    "trip_dataset = spark.sql(query)"
   ]
  },
  {
   "cell_type": "code",
   "execution_count": 11,
   "metadata": {
    "scrolled": true
   },
   "outputs": [],
   "source": [
    "#### - Uma coluna com o nome \"age_range\" sendo o valor de 1 para pessoas \n",
    "####    de 0-16 anos, 2 de 17-25, 3 de 26-50 e 4 para 50+.\n",
    "\n",
    "# Atualiza a coluna \"age\" para idade \n",
    "# troca valores nulos por 0\n",
    "# executa a funcao para aplicar os valores desejados.\n",
    "\n",
    "trip_dataset = trip_dataset.withColumn(\"age\",year(current_date())-year('age'))\\\n",
    ".na.fill({'age':0})\\\n",
    ".withColumn(\"age_range\",udf_agerange('age'))\n"
   ]
  },
  {
   "cell_type": "code",
   "execution_count": 13,
   "metadata": {},
   "outputs": [],
   "source": [
    "# Gerando arquivo de saida \".csv\", usando o metodo repartition(1) \n",
    "trip_dataset.drop(\"age\").repartition(1).write.csv(\"output\",header=True)"
   ]
  }
 ],
 "metadata": {
  "kernelspec": {
   "display_name": "Python 3",
   "language": "python",
   "name": "python3"
  },
  "language_info": {
   "codemirror_mode": {
    "name": "ipython",
    "version": 3
   },
   "file_extension": ".py",
   "mimetype": "text/x-python",
   "name": "python",
   "nbconvert_exporter": "python",
   "pygments_lexer": "ipython3",
   "version": "3.7.3"
  }
 },
 "nbformat": 4,
 "nbformat_minor": 4
}
